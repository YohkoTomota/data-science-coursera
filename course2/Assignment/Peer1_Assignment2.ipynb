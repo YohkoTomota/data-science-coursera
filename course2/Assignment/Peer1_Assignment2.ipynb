{
 "cells": [
  {
   "cell_type": "markdown",
   "metadata": {},
   "source": [
    "# Assignment 2\n",
    "\n",
    "Before working on this assignment please read these instructions fully. In the submission area, you will notice that you can click the link to **Preview the Grading** for each step of the assignment. This is the criteria that will be used for peer grading. Please familiarize yourself with the criteria before beginning the assignment.\n",
    "\n",
    "An NOAA dataset has been stored in the file `data/C2A2_data/BinnedCsvs_d400/bfdd220543cbde7e6d31f5e9890c888e683804571bd8e92083ed52f4.csv`. The data for this assignment comes from a subset of The National Centers for Environmental Information (NCEI) [Daily Global Historical Climatology Network](https://www1.ncdc.noaa.gov/pub/data/ghcn/daily/readme.txt) (GHCN-Daily). The GHCN-Daily is comprised of daily climate records from thousands of land surface stations across the globe.\n",
    "\n",
    "Each row in the assignment datafile corresponds to a single observation.\n",
    "\n",
    "The following variables are provided to you:\n",
    "\n",
    "* **id** : station identification code\n",
    "* **date** : date in YYYY-MM-DD format (e.g. 2012-01-24 = January 24, 2012)\n",
    "* **element** : indicator of element type\n",
    "    * TMAX : Maximum temperature (tenths of degrees C)\n",
    "    * TMIN : Minimum temperature (tenths of degrees C)\n",
    "* **value** : data value for element (tenths of degrees C)\n",
    "\n",
    "For this assignment, you must:\n",
    "\n",
    "1. Read the documentation and familiarize yourself with the dataset, then write some python code which returns a line graph of the record high and record low temperatures by day of the year over the period 2005-2014. The area between the record high and record low temperatures for each day should be shaded.\n",
    "2. Overlay a scatter of the 2015 data for any points (highs and lows) for which the ten year record (2005-2014) record high or record low was broken in 2015.\n",
    "3. Watch out for leap days (i.e. February 29th), it is reasonable to remove these points from the dataset for the purpose of this visualization.\n",
    "4. Make the visual nice! Leverage principles from the first module in this course when developing your solution. Consider issues such as legends, labels, and chart junk.\n",
    "\n",
    "The data you have been given is near **Atlanta, Georgia, United States**, and the stations the data comes from are shown on the map below."
   ]
  },
  {
   "cell_type": "code",
   "execution_count": 3,
   "metadata": {
    "collapsed": false
   },
   "outputs": [],
   "source": [
    "import matplotlib.pyplot as plt\n",
    "import mplleaflet\n",
    "import pandas as pd\n",
    "\n",
    "def leaflet_plot_stations(binsize, hashid):\n",
    "\n",
    "    df = pd.read_csv('data/C2A2_data/BinSize_d{}.csv'.format(binsize))\n",
    "\n",
    "    station_locations_by_hash = df[df['hash'] == hashid]\n",
    "\n",
    "    lons = station_locations_by_hash['LONGITUDE'].tolist()\n",
    "    lats = station_locations_by_hash['LATITUDE'].tolist()\n",
    "\n",
    "    plt.figure(figsize=(8,8))\n",
    "\n",
    "    plt.scatter(lons, lats, c='r', alpha=0.7, s=200)\n",
    "\n",
    "    return mplleaflet.display()\n",
    "\n",
    "#leaflet_plot_stations(400,'bfdd220543cbde7e6d31f5e9890c888e683804571bd8e92083ed52f4')"
   ]
  },
  {
   "cell_type": "code",
   "execution_count": 4,
   "metadata": {
    "collapsed": false
   },
   "outputs": [],
   "source": [
    "df = pd.read_csv('data/C2A2_data/BinnedCsvs_d400/bfdd220543cbde7e6d31f5e9890c888e683804571bd8e92083ed52f4.csv')"
   ]
  },
  {
   "cell_type": "code",
   "execution_count": 5,
   "metadata": {
    "collapsed": false
   },
   "outputs": [
    {
     "data": {
      "text/html": [
       "<div>\n",
       "<table border=\"1\" class=\"dataframe\">\n",
       "  <thead>\n",
       "    <tr style=\"text-align: right;\">\n",
       "      <th></th>\n",
       "      <th>ID</th>\n",
       "      <th>Date</th>\n",
       "      <th>Element</th>\n",
       "      <th>Data_Value</th>\n",
       "    </tr>\n",
       "  </thead>\n",
       "  <tbody>\n",
       "    <tr>\n",
       "      <th>0</th>\n",
       "      <td>USC00090219</td>\n",
       "      <td>2011-06-14</td>\n",
       "      <td>TMAX</td>\n",
       "      <td>311</td>\n",
       "    </tr>\n",
       "    <tr>\n",
       "      <th>1</th>\n",
       "      <td>USC00098436</td>\n",
       "      <td>2008-09-29</td>\n",
       "      <td>TMIN</td>\n",
       "      <td>122</td>\n",
       "    </tr>\n",
       "    <tr>\n",
       "      <th>2</th>\n",
       "      <td>USW00053863</td>\n",
       "      <td>2010-04-16</td>\n",
       "      <td>TMIN</td>\n",
       "      <td>122</td>\n",
       "    </tr>\n",
       "    <tr>\n",
       "      <th>3</th>\n",
       "      <td>USC00090181</td>\n",
       "      <td>2009-10-27</td>\n",
       "      <td>TMIN</td>\n",
       "      <td>39</td>\n",
       "    </tr>\n",
       "    <tr>\n",
       "      <th>4</th>\n",
       "      <td>USW00093801</td>\n",
       "      <td>2011-11-30</td>\n",
       "      <td>TMAX</td>\n",
       "      <td>78</td>\n",
       "    </tr>\n",
       "  </tbody>\n",
       "</table>\n",
       "</div>"
      ],
      "text/plain": [
       "            ID        Date Element  Data_Value\n",
       "0  USC00090219  2011-06-14    TMAX         311\n",
       "1  USC00098436  2008-09-29    TMIN         122\n",
       "2  USW00053863  2010-04-16    TMIN         122\n",
       "3  USC00090181  2009-10-27    TMIN          39\n",
       "4  USW00093801  2011-11-30    TMAX          78"
      ]
     },
     "execution_count": 5,
     "metadata": {},
     "output_type": "execute_result"
    }
   ],
   "source": [
    "df.head(5)"
   ]
  },
  {
   "cell_type": "code",
   "execution_count": 6,
   "metadata": {
    "collapsed": false
   },
   "outputs": [],
   "source": [
    "df.loc[:,'Data_Value'] *= 0.1 # Dividing all temperature entries by 10 to convert them to degree celsius\n",
    "df['Date'] = pd.to_datetime(df['Date']) # Changing the dtype of the date to pandas datetime \n",
    "\n",
    "# Setting up the sorted multi-index consisting of month and days so as to help grouping rows later for each \n",
    "# day of the year\n",
    "df['Day'] = pd.DatetimeIndex(df['Date']).day \n",
    "df['Month'] = pd.DatetimeIndex(df['Date']).month \n",
    "df = df.set_index(['Month','Day']) \n",
    "df.sort_index(inplace = True)\n",
    "\n",
    "# Discarding all the entries for 29th Feb of any year; only 365 days of the year are considered\n",
    "selected_df = df.loc[2,29] \n",
    "df = df[~df.index.isin(selected_df.index)]"
   ]
  },
  {
   "cell_type": "code",
   "execution_count": 7,
   "metadata": {
    "collapsed": false
   },
   "outputs": [
    {
     "data": {
      "text/html": [
       "<div>\n",
       "<table border=\"1\" class=\"dataframe\">\n",
       "  <thead>\n",
       "    <tr style=\"text-align: right;\">\n",
       "      <th></th>\n",
       "      <th></th>\n",
       "      <th>ID</th>\n",
       "      <th>Date</th>\n",
       "      <th>Element</th>\n",
       "      <th>Data_Value</th>\n",
       "    </tr>\n",
       "    <tr>\n",
       "      <th>Month</th>\n",
       "      <th>Day</th>\n",
       "      <th></th>\n",
       "      <th></th>\n",
       "      <th></th>\n",
       "      <th></th>\n",
       "    </tr>\n",
       "  </thead>\n",
       "  <tbody>\n",
       "    <tr>\n",
       "      <th rowspan=\"5\" valign=\"top\">1</th>\n",
       "      <th>1</th>\n",
       "      <td>USC00092485</td>\n",
       "      <td>2012-01-01</td>\n",
       "      <td>TMAX</td>\n",
       "      <td>18.9</td>\n",
       "    </tr>\n",
       "    <tr>\n",
       "      <th>1</th>\n",
       "      <td>USW00003888</td>\n",
       "      <td>2015-01-01</td>\n",
       "      <td>TMIN</td>\n",
       "      <td>-1.0</td>\n",
       "    </tr>\n",
       "    <tr>\n",
       "      <th>1</th>\n",
       "      <td>USW00003888</td>\n",
       "      <td>2015-01-01</td>\n",
       "      <td>TMAX</td>\n",
       "      <td>13.3</td>\n",
       "    </tr>\n",
       "    <tr>\n",
       "      <th>1</th>\n",
       "      <td>USC00092485</td>\n",
       "      <td>2012-01-01</td>\n",
       "      <td>TMIN</td>\n",
       "      <td>3.3</td>\n",
       "    </tr>\n",
       "    <tr>\n",
       "      <th>1</th>\n",
       "      <td>USW00003888</td>\n",
       "      <td>2014-01-01</td>\n",
       "      <td>TMIN</td>\n",
       "      <td>-0.5</td>\n",
       "    </tr>\n",
       "  </tbody>\n",
       "</table>\n",
       "</div>"
      ],
      "text/plain": [
       "                    ID       Date Element  Data_Value\n",
       "Month Day                                            \n",
       "1     1    USC00092485 2012-01-01    TMAX        18.9\n",
       "      1    USW00003888 2015-01-01    TMIN        -1.0\n",
       "      1    USW00003888 2015-01-01    TMAX        13.3\n",
       "      1    USC00092485 2012-01-01    TMIN         3.3\n",
       "      1    USW00003888 2014-01-01    TMIN        -0.5"
      ]
     },
     "execution_count": 7,
     "metadata": {},
     "output_type": "execute_result"
    }
   ],
   "source": [
    "df.head(5)"
   ]
  },
  {
   "cell_type": "code",
   "execution_count": 8,
   "metadata": {
    "collapsed": false
   },
   "outputs": [],
   "source": [
    "# Splitting dataframes into two - one for 2005-2014 and another for 2015\n",
    "df['Year'] = pd.DatetimeIndex(df['Date']).year\n",
    "df_2015 = df[df['Year'] == 2015] \n",
    "df = df[df['Year'] != 2015] \n",
    "\n",
    "# Creating two dataframes for 2005-2014 - one each for max and min\n",
    "max_temp_df = df[df['Element'] == 'TMAX'] \n",
    "min_temp_df = df[df['Element'] == 'TMIN'] \n",
    "\n",
    "# The following gives pandas series with 365 entries corresponding to the max/min temperatures \n",
    "# over the decade 2005-2014 for each day of the year\n",
    "max_temp = max_temp_df.groupby(level = ['Month', 'Day'])['Data_Value'].max()  \n",
    "min_temp = min_temp_df.groupby(level = ['Month', 'Day'])['Data_Value'].min()\n",
    "\n",
    "# Creating two dataframes for 2015 - one each for max and min\n",
    "max_temp_df_2015 = df_2015[df_2015['Element'] == 'TMAX']\n",
    "min_temp_df_2015 = df_2015[df_2015['Element'] == 'TMIN'] \n",
    "\n",
    "# The following gives dataframes with 365 rows corresponding to the max/min temperatures for each day of \n",
    "# the year 2015 and two columns in total viz one for temperature values and another for dates stored \n",
    "# as the pandas datatime object  \n",
    "max_temp_df_2015 = max_temp_df_2015.groupby(level = ['Month', 'Day']).max()[['Data_Value', 'Date']]\n",
    "min_temp_df_2015 = min_temp_df_2015.groupby(level = ['Month', 'Day']).min()[['Data_Value', 'Date']]"
   ]
  },
  {
   "cell_type": "code",
   "execution_count": 24,
   "metadata": {
    "collapsed": false
   },
   "outputs": [
    {
     "data": {
      "text/plain": [
       "<matplotlib.collections.PolyCollection at 0x7f7626c5f668>"
      ]
     },
     "execution_count": 24,
     "metadata": {},
     "output_type": "execute_result"
    }
   ],
   "source": [
    "import matplotlib.pyplot as plt\n",
    "import matplotlib.dates as dates\n",
    "import matplotlib.ticker as ticker\n",
    "\n",
    "# Need 365 days array for plotting in pandas datetime format; year does not matter so taken 2015 \n",
    "# for convenience\n",
    "date_range = df_2015['Date'].unique() \n",
    "\n",
    "# Creating figure and an axis\n",
    "fig, ax = plt.subplots( nrows=1, ncols=1, figsize = (10,5) ) \n",
    "ax.set_title('New Orleans Record Temperatures (2005-2014) and 2015') # Setting the title\n",
    "ax.yaxis.grid() # Setting up the horizontal grid lines in the background\n",
    "\n",
    "# Plotting graphs and filling in between region\n",
    "# Google Material Design color palette (https://material.io/guidelines/style/color.html) is used below: \n",
    "plt.plot(date_range, max_temp.values, '#FF9100', linewidth = 1, alpha=0.75, label = '2005-2014 Highs')\n",
    "plt.plot(date_range, min_temp.values, '#80D8FF', linewidth = 1, alpha=0.75, label = '2005-2014 Lows') \n",
    "plt.fill_between(date_range, min_temp, max_temp, facecolor='#EEEEEE')"
   ]
  },
  {
   "cell_type": "code",
   "execution_count": 25,
   "metadata": {
    "collapsed": true
   },
   "outputs": [],
   "source": [
    "plt.legend(loc = 1).get_frame().set_edgecolor('white') \n",
    "\n",
    "# Labels for the legends of the scatter plots below\n",
    "my_label_max = \"2015 Highs\"\n",
    "my_label_min = \"2015 Lows\""
   ]
  },
  {
   "cell_type": "code",
   "execution_count": 26,
   "metadata": {
    "collapsed": false
   },
   "outputs": [],
   "source": [
    "for idx, rows in max_temp_df_2015.iterrows():\n",
    "    if rows['Data_Value'] > max_temp.loc[idx]:\n",
    "        plt.scatter(rows['Date'], rows['Data_Value'], c = '#E65100', marker = '.', label = my_label_max)\n",
    "        my_label_max = \"_nolegend_\" # To avoid duplicate labels in the legend\n",
    "for idx, rows in min_temp_df_2015.iterrows():\n",
    "    if rows['Data_Value'] < min_temp.loc[idx]:\n",
    "        plt.scatter(rows['Date'], rows['Data_Value'], c = '#0091EA', marker = '.', label = my_label_min)\n",
    "        my_label_min = \"_nolegend_\"\n",
    "        \n",
    "# Adding the labels for the max and min points to the above legend \n",
    "ax.legend(loc = 1).get_frame().set_edgecolor('white')"
   ]
  },
  {
   "cell_type": "code",
   "execution_count": 27,
   "metadata": {
    "collapsed": false
   },
   "outputs": [],
   "source": [
    "# Setting the limits for x-axis to fit the dates perfectly\n",
    "xmin, xmax = date_range[0], date_range[-1]\n",
    "ax.set_xlim(xmin, xmax)\n",
    "\n",
    "# Locating 12 positions for the 15th of each month on x-axis \n",
    "ax.xaxis.set_major_locator(dates.MonthLocator())\n",
    "ax.xaxis.set_minor_locator(dates.MonthLocator(bymonthday=15))\n",
    "\n",
    "# Labeling the 12 months on x-axis at the positions located above\n",
    "ax.xaxis.set_major_formatter(ticker.NullFormatter())\n",
    "ax.xaxis.set_minor_formatter(dates.DateFormatter('%b'))\n",
    "\n",
    "# Centering month labels in between the ticks and removing undesirable ticks\n",
    "xticks = ax.xaxis.get_minor_ticks()\n",
    "for xtick in xticks:\n",
    "    xtick.tick1line.set_markersize(0)\n",
    "    xtick.tick2line.set_markersize(0)\n",
    "    xtick.label1.set_horizontalalignment('center')"
   ]
  },
  {
   "cell_type": "code",
   "execution_count": 28,
   "metadata": {
    "collapsed": false
   },
   "outputs": [],
   "source": [
    "ax.set_ylabel('Temperatures $(^{\\circ}$C)') # Set label for y-axis\n",
    "\n",
    "# Setting the temperature limits for y-axis from -10 to 50 degrees Celsius\n",
    "ymin, ymax = -10, 50\n",
    "ax.set_ylim(ymin, ymax) \n",
    "\n",
    "yticks = ax.yaxis.get_major_ticks()\n",
    "yticks[0].label1.set_visible(False) # Making 50 degrees Celsius disappear to make the graph look cleaner\n",
    "yticks[1].label1.set_visible(False) # Making -10 degrees Celsius disappear to make the graph look cleaner\n",
    "ax.yaxis.set_major_locator(ticker.MultipleLocator(10)) # Putting major ticks at every 10 degrees Celsius\n",
    "ax.yaxis.set_minor_locator(ticker.MultipleLocator(5)) # Putting minor ticks at every 5 degrees Celsius"
   ]
  },
  {
   "cell_type": "code",
   "execution_count": 29,
   "metadata": {
    "collapsed": true
   },
   "outputs": [],
   "source": [
    "ax2 = ax.twinx() # Create a twin y-axis sharing the x-axis with the previous y-axis\n",
    "ax2.set_ylabel('Temperatures $(^{\\circ}$F)') # Setting label for y-axis\n",
    "def C_to_F(temp_c): # Celsius to Fahrenheit  \n",
    "    return 9/5 *temp_c + 32\n",
    "ax2.set_ylim(C_to_F(ymin), C_to_F(ymax)) # (ymin, ymax) are defined above\n",
    "ax2.yaxis.set_major_locator(ticker.MultipleLocator(20)) # Putting major ticks at every 20 degrees Fahrenheit\n",
    "ax2.yaxis.set_minor_locator(ticker.MultipleLocator(5)) # Putting major ticks at every 5 degrees Fahrenheit\n"
   ]
  },
  {
   "cell_type": "code",
   "execution_count": 30,
   "metadata": {
    "collapsed": false
   },
   "outputs": [
    {
     "data": {
      "image/png": "[encoded data removed]",
      "text/plain": [
       "<matplotlib.figure.Figure at 0x7f7626ca7160>"
      ]
     },
     "metadata": {},
     "output_type": "display_data"
    }
   ],
   "source": [
    "plt.show()"
   ]
  },
  {
   "cell_type": "code",
   "execution_count": null,
   "metadata": {
    "collapsed": true
   },
   "outputs": [],
   "source": []
  }
 ],
 "metadata": {
  "kernelspec": {
   "display_name": "Python 3",
   "language": "python",
   "name": "python3"
  },
  "language_info": {
   "codemirror_mode": {
    "name": "ipython",
    "version": 3
   },
   "file_extension": ".py",
   "mimetype": "text/x-python",
   "name": "python",
   "nbconvert_exporter": "python",
   "pygments_lexer": "ipython3",
   "version": "3.5.2"
  }
 },
 "nbformat": 4,
 "nbformat_minor": 1
}
